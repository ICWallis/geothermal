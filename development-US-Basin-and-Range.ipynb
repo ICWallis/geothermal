{
 "cells": [
  {
   "cell_type": "markdown",
   "metadata": {},
   "source": [
    "# Scale of Geothermal Development in the Basin and Range"
   ]
  },
  {
   "cell_type": "markdown",
   "metadata": {},
   "source": [
    "# Plant size \n",
    "\n",
    "total installed capacity and then the same by type"
   ]
  },
  {
   "cell_type": "markdown",
   "metadata": {},
   "source": [
    "# Installed Capacity by Resource\n",
    "\n",
    "Where plants are installed in serial, the larger capacity plant is reflected or I could work out how to put error bars on it to reflect de-rating and plant capacity. \n",
    "\n",
    "Arrange fields from left to right by size then have error bars on installed capacity. \n",
    "\n",
    "Do a separate frequency plot using max installed capacity values. \n",
    "\n"
   ]
  }
 ],
 "metadata": {
  "kernelspec": {
   "display_name": "Python 3",
   "language": "python",
   "name": "python3"
  },
  "language_info": {
   "codemirror_mode": {
    "name": "ipython",
    "version": 3
   },
   "file_extension": ".py",
   "mimetype": "text/x-python",
   "name": "python",
   "nbconvert_exporter": "python",
   "pygments_lexer": "ipython3",
   "version": "3.7.7"
  }
 },
 "nbformat": 4,
 "nbformat_minor": 4
}
